{
 "cells": [
  {
   "cell_type": "code",
   "execution_count": 2,
   "id": "249b3ddf",
   "metadata": {},
   "outputs": [],
   "source": [
    "# Importing necessary libraries\n",
    "import numpy as np\n",
    "import pandas as pd\n",
    "import seaborn as sns\n",
    "import matplotlib.pyplot as plt"
   ]
  },
  {
   "cell_type": "markdown",
   "id": "b5dda91d",
   "metadata": {},
   "source": [
    "# 1. Importing Data"
   ]
  },
  {
   "cell_type": "code",
   "execution_count": 5,
   "id": "141b99e0",
   "metadata": {},
   "outputs": [
    {
     "name": "stdout",
     "output_type": "stream",
     "text": [
      "      Provider PotentialFraud\n",
      "0     PRV51001             No\n",
      "1     PRV51003            Yes\n",
      "2     PRV51004             No\n",
      "3     PRV51005            Yes\n",
      "4     PRV51007             No\n",
      "...        ...            ...\n",
      "5405  PRV57759             No\n",
      "5406  PRV57760             No\n",
      "5407  PRV57761             No\n",
      "5408  PRV57762             No\n",
      "5409  PRV57763             No\n",
      "\n",
      "[5410 rows x 2 columns]\n"
     ]
    }
   ],
   "source": [
    "provider_data=pd.read_csv(r\"Data\\provider_fraud_detection_data.csv\")\n",
    "print (provider_data)"
   ]
  },
  {
   "cell_type": "code",
   "execution_count": 65,
   "id": "628066d2",
   "metadata": {},
   "outputs": [],
   "source": [
    "import zipfile"
   ]
  },
  {
   "cell_type": "code",
   "execution_count": 66,
   "id": "2a818d4a",
   "metadata": {},
   "outputs": [
    {
     "name": "stdout",
     "output_type": "stream",
     "text": [
      "files in Data/outpatientdata.zip : Train_Outpatientdata-1542865627584.csv\n"
     ]
    },
    {
     "name": "stderr",
     "output_type": "stream",
     "text": [
      "\n",
      "KeyboardInterrupt\n",
      "\n"
     ]
    }
   ],
   "source": [
    "data_list=['outpatientdata','inpatientdata','beneficiarydata']\n",
    "dataframes=[]\n",
    "for i in data_list:\n",
    "    zipfile_path=f'Data/{i}.zip'\n",
    "    zf=zipfile.ZipFile(zipfile_path)\n",
    "    for file in zf.namelist():\n",
    "        print (f\"files in {zipfile_path} : {file}\")\n",
    "        df=pd.read_csv(zf.open(file))\n",
    "        dataframes.append(df)"
   ]
  },
  {
   "cell_type": "code",
   "execution_count": null,
   "id": "469ede56",
   "metadata": {},
   "outputs": [],
   "source": [
    "outpatient_data=dataframes[0]\n",
    "inpatient_data=dataframes[1]\n",
    "beneficiary_data=dataframes[2]"
   ]
  },
  {
   "cell_type": "code",
   "execution_count": null,
   "id": "c4daa46c",
   "metadata": {},
   "outputs": [],
   "source": [
    "from pandas_profiling import ProfileReport\n",
    "profile = ProfileReport(df, title=\"Pandas Profiling Report\")\n",
    "profile\n"
   ]
  },
  {
   "cell_type": "code",
   "execution_count": null,
   "id": "266df872",
   "metadata": {},
   "outputs": [],
   "source": []
  }
 ],
 "metadata": {
  "kernelspec": {
   "display_name": "Python 3 (ipykernel)",
   "language": "python",
   "name": "python3"
  },
  "language_info": {
   "codemirror_mode": {
    "name": "ipython",
    "version": 3
   },
   "file_extension": ".py",
   "mimetype": "text/x-python",
   "name": "python",
   "nbconvert_exporter": "python",
   "pygments_lexer": "ipython3",
   "version": "3.8.10"
  }
 },
 "nbformat": 4,
 "nbformat_minor": 5
}
